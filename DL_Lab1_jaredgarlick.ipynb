{
  "cells": [
    {
      "cell_type": "markdown",
      "metadata": {
        "id": "view-in-github",
        "colab_type": "text"
      },
      "source": [
        "<a href=\"https://colab.research.google.com/github/jbgarlick/jbgarlick/blob/main/DL_Lab1_jaredgarlick.ipynb\" target=\"_parent\"><img src=\"https://colab.research.google.com/assets/colab-badge.svg\" alt=\"Open In Colab\"/></a>"
      ]
    },
    {
      "cell_type": "markdown",
      "metadata": {
        "id": "bkj1_ftQtuBk"
      },
      "source": [
        "# Lab 1: Getting Started\n",
        "\n",
        "## Objective  \n",
        "Get started with Google Colab, Python, and PyTorch. See deep learning in action with TensorFlow playground.\n",
        "\n",
        "## Deliverable\n",
        "For this lab, you will submit a Colab notebook (.ipynb) via Learning Suite.\n",
        "\n",
        "___\n",
        "\n",
        "### Grading\n",
        "Your notebook will be graded on the following:\n",
        "* 50% Part 1: Completed the 10 PyTorch microtasks\n",
        "* 40% Part 2: Image indicating TensorFlow success\n",
        "* 10% Tidy and legible figures, (for the future make sure to label axes where appropriate)\n",
        "\n",
        "___\n",
        "\n",
        "### Overview of Google Colab\n",
        "Throughout this class, we recommend you use Google's Colaboratory (Colab) for the labs. If you aren't familiar with Colab or IPython notebooks, take some time to look at the tutorials linked below.\n",
        "\n",
        "Colab provides an environment that interacts with IPython notebooks (similar to Jupyter) and utilizes a standardized Python distribution.\n",
        "In addition, Colab provides a GPU we can use for deep learning. We will talk about the advantages of GPU vs CPU training in class.\n",
        "\n",
        "While you are allowed to do the labs on your own machine, using Jupyter or some other IPython notebook editor, the labs were written and updated for the current Python distribution used by Colab. You may need to do extra troubleshooting to get them working locally. Also, setting up your own GPU for deep learning may be difficult, and training on the CPU may be unbearably slow in later labs.\n",
        "\n",
        "### Lab Details\n",
        "\n",
        "This lab is intended to get you used to IPython notebooks, Colab, and a few basic deep learning principles.\n",
        "\n",
        "As described above, the notebook should do two things: \n",
        "1.    Complete all 10 microtasks\n",
        "2.    Display an image that you generate using the Tensorflow playground\n",
        "\n",
        "For part 1, you will be using the PyTorch documentation to learn how to complete simple tasks. Each task is solvable in one or two lines of code. Links are provided for each microtask to give you a guided introduction to PyTorch.\n",
        "\n",
        "For part 2, you should visit the [TensorFlow playground](http://playground.tensorflow.org/),\n",
        "and play with different settings. Most of it will be unfamiliar,\n",
        "but don't worry – you can't break it!\n",
        "Once you have a working classifier on the spiral dataset, take a screenshot. \n",
        "Then use your Colab notebook to display that image in-line.\n",
        "___\n",
        "\n",
        "#### Helpful Links\n",
        "\n",
        "[Google Colab](http://colab.research.google.com/) The site where you will probably be coding the labs\n",
        "\n",
        "[A Colab notebook teaching you how to use Colab notebooks](https://colab.research.google.com/drive/1TzaPS3jvRadN-URLbQ9nD1ZNoZktfNRy)\n",
        "\n",
        "[Various Colab tutorials](https://sites.google.com/site/artml2018/tutorials)\n",
        "\n",
        "___"
      ]
    },
    {
      "cell_type": "markdown",
      "metadata": {
        "id": "q2vZ47p4EZkz"
      },
      "source": [
        "### Part 1\n",
        "\n",
        "This is a quick guided walkthrough of PyTorch tensors.\n",
        "\n",
        "PyTorch is a Python library based on the Torch machine learning framework. While other great deep learning alternatives exist, the labs we use in this course were written exclusively for PyTorch.\n",
        "\n",
        "#### Tensors\n",
        "\n",
        "The main PyTorch data structure is the tensor. A tensor in mathematics is a matrix or vector-like structure with more than 2 dimensions, though PyTorch tensors can have 0 or more dimensions. Tensors are implemented similarly to NumPy arrays, and most of what can be done with NumPy can be done with PyTorch tensors. Complete the microtasks in the cells below to learn basic PyTorch tensor manipulation. We provide links to the documentation for this lab, but you should feel comfortable searching the documentation yourself in later labs."
      ]
    },
    {
      "cell_type": "markdown",
      "metadata": {
        "id": "kgsVUNanEZk0"
      },
      "source": [
        "**TODO:** // Here are the list of things to do for this part\n",
        "\n",
        "\n",
        "\n",
        "**DONE:** // Put items from the TODO list here when you are done with them (double click on the cell, cut and paste the line). This is for your benefit as well as the TAs to help with grading.\n",
        "\n",
        "* Complete the tensor microtasks\n"
      ]
    },
    {
      "cell_type": "code",
      "execution_count": null,
      "metadata": {
        "id": "KbUk3bE6EZk0"
      },
      "outputs": [],
      "source": [
        "# Input Statements for Microtask\n",
        "import torch\n",
        "import numpy as np"
      ]
    },
    {
      "cell_type": "markdown",
      "metadata": {
        "id": "puoMdu6JEZk1"
      },
      "source": [
        "##### Task 1\n",
        "Tensors are the the lifeblood of PyTorch.<br>\n",
        "Construct a 5x3 tensor, 'a', of zeros and of dtype long. <br>\n",
        "https://pytorch.org/docs/stable/generated/torch.zeros.html <br>\n",
        "(To create tensors of other values, see `torch.ones()` and `torch.full()`)"
      ]
    },
    {
      "cell_type": "code",
      "execution_count": null,
      "metadata": {
        "colab": {
          "base_uri": "https://localhost:8080/"
        },
        "id": "A9aHouhQ6cou",
        "outputId": "f34e44fa-1fcd-4a4e-a183-391287183042"
      },
      "outputs": [
        {
          "output_type": "stream",
          "name": "stdout",
          "text": [
            "tensor([[0, 0, 0],\n",
            "        [0, 0, 0],\n",
            "        [0, 0, 0],\n",
            "        [0, 0, 0],\n",
            "        [0, 0, 0]])\n",
            "torch.Size([5, 3])\n"
          ]
        }
      ],
      "source": [
        "# Your code here:\n",
        "a = torch.zeros((5,3),dtype=torch.long)\n",
        "#\n",
        "# Don't change the following prints and asserts\n",
        "print(a)\n",
        "print(a.size())\n",
        "assert a.size() == torch.Size([5, 3])\n",
        "assert type(a[0][0].item()) is int"
      ]
    },
    {
      "cell_type": "markdown",
      "metadata": {
        "id": "YhSY_Eh1EZk2"
      },
      "source": [
        "##### Task 2\n",
        "Many of your bugs will come from incorrect tensor dimensions. <br>\n",
        "PyTorch has several built-in functions to give you the control need. <br>\n",
        "Using only the tensor's [`.unsqueeze()`](https://pytorch.org/docs/stable/tensors.html#torch.Tensor.unsqueeze) function, turn 'a' into a 5x1x3 tensor. Hint: use the `dim=` argument"
      ]
    },
    {
      "cell_type": "code",
      "execution_count": null,
      "metadata": {
        "colab": {
          "base_uri": "https://localhost:8080/"
        },
        "id": "6rfOY4HqYDTP",
        "outputId": "66be36df-3921-4cde-e7a3-1a47c15b30d5"
      },
      "outputs": [
        {
          "output_type": "stream",
          "name": "stdout",
          "text": [
            "torch.Size([5, 1, 3])\n"
          ]
        }
      ],
      "source": [
        "#\n",
        "a = torch.unsqueeze(a, 1)\n",
        "#\n",
        "print(a.shape)\n",
        "assert a.shape == torch.Size([5, 1, 3])"
      ]
    },
    {
      "cell_type": "markdown",
      "metadata": {
        "id": "QGRFjzVkEZk2"
      },
      "source": [
        "##### Task 3\n",
        "Each dimension means something different. <br>\n",
        "You can change the order of your dimensions without losing information. <br>\n",
        "Reshape 'a' into a 5x3x1 tensor, using the [`.view()`](https://pytorch.org/docs/stable/tensors.html#torch.Tensor.view) function"
      ]
    },
    {
      "cell_type": "code",
      "execution_count": null,
      "metadata": {
        "id": "zY1SJ95Ekokk",
        "colab": {
          "base_uri": "https://localhost:8080/"
        },
        "outputId": "e2f1cca9-ce54-4111-e3a3-f13217e1031c"
      },
      "outputs": [
        {
          "output_type": "stream",
          "name": "stdout",
          "text": [
            "torch.Size([5, 3, 1])\n"
          ]
        }
      ],
      "source": [
        "#\n",
        "a = a.view(5,3,1)\n",
        "#\n",
        "print(a.shape)\n",
        "assert a.shape == torch.Size([5, 3, 1])"
      ]
    },
    {
      "cell_type": "markdown",
      "metadata": {
        "id": "JCSnUv-HEZk3"
      },
      "source": [
        "##### Task 4\n",
        "Dimensions of size 1 can sometimes be necessary for shape matching. <br>\n",
        "However, they can be removed without losing information. <br>\n",
        "[`squeeze()`](https://pytorch.org/docs/stable/tensors.html#torch.Tensor.squeeze) 'a' to remove dimensions of 1."
      ]
    },
    {
      "cell_type": "code",
      "execution_count": null,
      "metadata": {
        "id": "_0Q_1vDtmaKW",
        "colab": {
          "base_uri": "https://localhost:8080/"
        },
        "outputId": "2f83fedb-2f3a-4cc0-c7a1-27a907b0e2a3"
      },
      "outputs": [
        {
          "output_type": "stream",
          "name": "stdout",
          "text": [
            "torch.Size([5, 3])\n"
          ]
        }
      ],
      "source": [
        "#\n",
        "a = a.squeeze()\n",
        "#\n",
        "print(a.shape)\n",
        "assert a.size() == torch.Size([5, 3])"
      ]
    },
    {
      "cell_type": "markdown",
      "metadata": {
        "id": "ODuT65O-EZk3"
      },
      "source": [
        "##### Task 5\n",
        "You can turn any tensor into a tensor of a single dimension. <br>\n",
        "[`flatten()`](https://pytorch.org/docs/stable/tensors.html#torch.Tensor.flatten) 'a' to a single dimension."
      ]
    },
    {
      "cell_type": "code",
      "execution_count": null,
      "metadata": {
        "id": "5miM1dYxnmSY",
        "colab": {
          "base_uri": "https://localhost:8080/"
        },
        "outputId": "cda76a07-7330-4f2a-accb-e7d4f5f8d4a2"
      },
      "outputs": [
        {
          "output_type": "stream",
          "name": "stdout",
          "text": [
            "torch.Size([15])\n"
          ]
        }
      ],
      "source": [
        "#\n",
        "a = a.flatten()\n",
        "#\n",
        "print(a.size())\n",
        "assert  a.size() == torch.Size([15]) "
      ]
    },
    {
      "cell_type": "markdown",
      "metadata": {
        "id": "749FlvMEEZk3"
      },
      "source": [
        "##### Task 6\n",
        "It's easy to integrate other common Python data structures. <br>\n",
        "Initialize a tensor, 'b', from a list. <br>\n",
        "Note that the constructor `torch.Tensor()` creates a tensor of a default dtype (float), while the function [`torch.tensor()`](https://pytorch.org/docs/stable/generated/torch.tensor.html#torch.tensor) either uses a specified dtype or determines the type from the data passed in."
      ]
    },
    {
      "cell_type": "code",
      "execution_count": null,
      "metadata": {
        "id": "oxX1Ybcc7gDW",
        "colab": {
          "base_uri": "https://localhost:8080/"
        },
        "outputId": "2404b302-1796-4122-8c60-564efd707ea7"
      },
      "outputs": [
        {
          "output_type": "stream",
          "name": "stdout",
          "text": [
            "tensor([1, 2, 3, 4, 5])\n"
          ]
        }
      ],
      "source": [
        "my_list = [1,2,3,4,5]\n",
        "#\n",
        "b = torch.tensor(my_list)\n",
        "#\n",
        "print(b)\n",
        "assert b.size() == torch.Size([5])"
      ]
    },
    {
      "cell_type": "markdown",
      "metadata": {
        "id": "5-jOmwKeEZk4"
      },
      "source": [
        "##### Task 7\n",
        "GPUs will allow tensor operations to run much faster. <br>\n",
        "Assign 'a' and 'b' to run on GPU. <br>\n",
        "https://pytorch.org/docs/stable/tensors.html#torch.Tensor.cuda\n",
        "\n",
        "Note that this will not work if you don't have a cuda-enabled GPU available. You can connect to a machine with a GPU in Colab if you go to Runtime -> Change Runtime Type and set hardware accelerator to GPU, then click save."
      ]
    },
    {
      "cell_type": "code",
      "execution_count": null,
      "metadata": {
        "id": "4XpqRqfG9DTr",
        "colab": {
          "base_uri": "https://localhost:8080/"
        },
        "outputId": "57037aaf-739c-4b03-ab4e-7c99ca457ef3"
      },
      "outputs": [
        {
          "output_type": "stream",
          "name": "stdout",
          "text": [
            "tensor([0, 0, 0, 0, 0, 0, 0, 0, 0, 0, 0, 0, 0, 0, 0], device='cuda:0') tensor([1, 2, 3, 4, 5], device='cuda:0')\n"
          ]
        }
      ],
      "source": [
        "#\n",
        "\n",
        "a = a.cuda()\n",
        "b = b.cuda()\n",
        "\n",
        "#\n",
        "print(a, b)\n",
        "assert a.is_cuda and b.is_cuda"
      ]
    },
    {
      "cell_type": "markdown",
      "metadata": {
        "id": "w7LpUwPKEZk4"
      },
      "source": [
        "##### Task 8\n",
        "You cannot perform operations on tensors that are on different devices (GPU and CPU), and a tensor on the GPU cannot be converted to a NumPy array or visualized with Matplotlib. <br>\n",
        "Assign 'a' and 'b' to run on CPU. <br>\n",
        "https://pytorch.org/docs/stable/tensors.html#torch.Tensor.cpu"
      ]
    },
    {
      "cell_type": "code",
      "execution_count": null,
      "metadata": {
        "id": "FPD6NUDf7915",
        "colab": {
          "base_uri": "https://localhost:8080/"
        },
        "outputId": "0bc57aad-7922-4a00-ce1f-3ee7ff3a61b6"
      },
      "outputs": [
        {
          "output_type": "stream",
          "name": "stdout",
          "text": [
            "tensor([0, 0, 0, 0, 0, 0, 0, 0, 0, 0, 0, 0, 0, 0, 0]) tensor([1, 2, 3, 4, 5])\n"
          ]
        }
      ],
      "source": [
        "#\n",
        "a = a.to('cpu')\n",
        "b = b.to('cpu')\n",
        "#\n",
        "print(a, b)\n",
        "assert not a.is_cuda and not b.is_cuda"
      ]
    },
    {
      "cell_type": "markdown",
      "metadata": {
        "id": "LqBQ8Mj2EZk4"
      },
      "source": [
        "##### Task 9\n",
        "You will often want to convert tensors to NumPy arrays to interact with other Python libraries. <br>\n",
        "Convert 'a' to a NumPy array 'c'. <br>\n",
        "https://pytorch.org/docs/stable/tensors.html#torch.Tensor.numpy"
      ]
    },
    {
      "cell_type": "code",
      "execution_count": null,
      "metadata": {
        "id": "1GMvFc2c9P_i",
        "colab": {
          "base_uri": "https://localhost:8080/"
        },
        "outputId": "a2135e62-2339-437a-87f7-7cc43f1d1096"
      },
      "outputs": [
        {
          "output_type": "stream",
          "name": "stdout",
          "text": [
            "<class 'numpy.ndarray'>\n"
          ]
        }
      ],
      "source": [
        "#\n",
        "c = a.numpy()\n",
        "#\n",
        "print(type(c))\n",
        "assert type(c) == np.ndarray"
      ]
    },
    {
      "cell_type": "markdown",
      "metadata": {
        "id": "cgpQjmgTEZk4"
      },
      "source": [
        "##### Task 10\n",
        "You may often want to convert your NumPy data back into PyTorch. <br>\n",
        "Convert NumPy array 'c' to tensor 'd'. <br>\n",
        "https://pytorch.org/docs/stable/generated/torch.from_numpy.html"
      ]
    },
    {
      "cell_type": "code",
      "execution_count": null,
      "metadata": {
        "id": "EVFr_ZNgBMHL",
        "colab": {
          "base_uri": "https://localhost:8080/"
        },
        "outputId": "e2467c11-5aa4-4cc3-dee6-292907f5d844"
      },
      "outputs": [
        {
          "output_type": "stream",
          "name": "stdout",
          "text": [
            "torch.LongTensor\n"
          ]
        }
      ],
      "source": [
        "#\n",
        "d = torch.tensor(c)\n",
        "#\n",
        "print(d.type())\n",
        "assert torch.is_tensor(d)"
      ]
    },
    {
      "cell_type": "markdown",
      "metadata": {
        "id": "fM3h46ZAucnV"
      },
      "source": [
        "\n",
        "___\n",
        "\n",
        "### Part 2\n",
        "\n",
        "You must play with the Tensorflow playground neural network, and figure out how to create a classifier that successfully classifies the “spiral” dataset. Take a screenshot containing the visualization of the dataset and your classifier, the network architecture, and the hyperparameters of the classifier that learned the spiral dataset.\n",
        "\n",
        "\n",
        "[TensorFlow playground](http://playground.tensorflow.org/)\n",
        "\n",
        "**TODO:**\n",
        "\n",
        "\n",
        "**DONE:**\n",
        "* Create a classifier that successfully classifies the \"spiral\" dataset\n",
        "* Display the image below"
      ]
    },
    {
      "cell_type": "code",
      "execution_count": null,
      "metadata": {
        "id": "fUPyrePXEZk5",
        "colab": {
          "base_uri": "https://localhost:8080/",
          "height": 248
        },
        "outputId": "e26e6374-bb28-4c46-b261-789bad7b51a2"
      },
      "outputs": [
        {
          "output_type": "display_data",
          "data": {
            "text/plain": [
              "<Figure size 432x288 with 1 Axes>"
            ],
            "image/png": "[encoded data removed]"
          },
          "metadata": {
            "needs_background": "light"
          }
        }
      ],
      "source": [
        "# Run this cell to upload and display your screenshot.\n",
        "# The results of code cells are saved along with the file, so if you can see the image below, we will be able to also.\n",
        "import io\n",
        "from PIL import Image\n",
        "from google.colab import files\n",
        "import matplotlib.pyplot as plt\n",
        "\n",
        "# file_dict = files.upload()\n",
        "# print(file_dict)\n",
        "image_path = 'sprial.png'\n",
        "image = Image.open(image_path)\n",
        "plt.imshow(image, aspect='auto')\n",
        "plt.axis('off')\n",
        "plt.show()"
      ]
    },
    {
      "cell_type": "code",
      "execution_count": null,
      "metadata": {
        "id": "L9OdFckNEZk5"
      },
      "outputs": [],
      "source": []
    }
  ],
  "metadata": {
    "colab": {
      "collapsed_sections": [],
      "provenance": [],
      "include_colab_link": true
    },
    "kernelspec": {
      "display_name": "Python 3",
      "language": "python",
      "name": "python3"
    },
    "language_info": {
      "codemirror_mode": {
        "name": "ipython",
        "version": 3
      },
      "file_extension": ".py",
      "mimetype": "text/x-python",
      "name": "python",
      "nbconvert_exporter": "python",
      "pygments_lexer": "ipython3",
      "version": "3.7.1"
    },
    "pycharm": {
      "stem_cell": {
        "cell_type": "raw",
        "metadata": {
          "collapsed": false
        },
        "source": []
      }
    },
    "accelerator": "GPU",
    "gpuClass": "standard"
  },
  "nbformat": 4,
  "nbformat_minor": 0
}